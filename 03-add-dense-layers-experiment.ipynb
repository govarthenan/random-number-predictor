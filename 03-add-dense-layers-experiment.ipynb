{
 "cells": [
  {
   "cell_type": "code",
   "execution_count": 89,
   "metadata": {},
   "outputs": [],
   "source": [
    "!export TF_BLAS=libopenblas\n",
    "!export LD_LIBRARY_PATH=/usr/lib/x86_64-linux-gnu:$LD_LIBRARY_PATH\n",
    "!export OPENBLAS_NUM_THREADS=8  # You can adjust this based on your CPU cores"
   ]
  },
  {
   "cell_type": "code",
   "execution_count": 90,
   "metadata": {},
   "outputs": [],
   "source": [
    "import pandas as pd\n",
    "import numpy as np\n",
    "import tensorflow\n",
    "import matplotlib.pyplot as plt\n",
    "import glob"
   ]
  },
  {
   "cell_type": "markdown",
   "metadata": {},
   "source": [
    "# Data"
   ]
  },
  {
   "cell_type": "code",
   "execution_count": 91,
   "metadata": {},
   "outputs": [],
   "source": [
    "# construct dataframe from multiple csv files\n",
    "\n",
    "# get list of available csv files\n",
    "csv_files = glob.glob('./data/*.csv')\n",
    "\n",
    "# read each file and create final df\n",
    "dataframes = []\n",
    "for file in csv_files:\n",
    "    temp_df = pd.read_csv(file)\n",
    "    dataframes.append(temp_df)\n",
    "\n",
    "df = pd.concat(dataframes, ignore_index=True)\n",
    "df['Timestamp'] = pd.to_datetime(df['Timestamp'], unit='s')  # convert unix_train time to date time\n",
    "df.sort_values(by='Timestamp', inplace=True)  # sort by timestamp"
   ]
  },
  {
   "cell_type": "code",
   "execution_count": 92,
   "metadata": {},
   "outputs": [
    {
     "name": "stdout",
     "output_type": "stream",
     "text": [
      "<class 'pandas.core.frame.DataFrame'>\n",
      "Int64Index: 88801 entries, 82354 to 43821\n",
      "Data columns (total 3 columns):\n",
      " #   Column     Non-Null Count  Dtype         \n",
      "---  ------     --------------  -----         \n",
      " 0   Number     88801 non-null  float64       \n",
      " 1   Timestamp  88801 non-null  datetime64[ns]\n",
      " 2   IP         88801 non-null  object        \n",
      "dtypes: datetime64[ns](1), float64(1), object(1)\n",
      "memory usage: 2.7+ MB\n"
     ]
    },
    {
     "data": {
      "text/plain": [
       "Number       0\n",
       "Timestamp    0\n",
       "IP           0\n",
       "dtype: int64"
      ]
     },
     "execution_count": 92,
     "metadata": {},
     "output_type": "execute_result"
    }
   ],
   "source": [
    "df.info()\n",
    "df.isnull().sum()"
   ]
  },
  {
   "cell_type": "markdown",
   "metadata": {},
   "source": [
    "# Feature Eng."
   ]
  },
  {
   "cell_type": "code",
   "execution_count": 93,
   "metadata": {},
   "outputs": [],
   "source": [
    "n_features = 3  # number of features used to train\n",
    "n_lookback = 5  # Number of historical data points to learn for each result"
   ]
  },
  {
   "cell_type": "code",
   "execution_count": 94,
   "metadata": {},
   "outputs": [],
   "source": [
    "def get_time_attr(row: pd.Series, part: str):\n",
    "    \"\"\"Return the specified part of the timestamp.\n",
    "\n",
    "    Args:\n",
    "        row (pd.Series): Dataframe row\n",
    "        part (str): Should be a valid `pandas.Timestamp` attribute\n",
    "\n",
    "    Returns:\n",
    "        any: Specified attribute of the timestamp\n",
    "    \"\"\"\n",
    "    return getattr(row, part)"
   ]
  },
  {
   "cell_type": "code",
   "execution_count": 95,
   "metadata": {},
   "outputs": [],
   "source": [
    "# Get time attributes and add to dataframe\n",
    "needed_time_attrs = [\"hour\", \"minute\"]\n",
    "\n",
    "for attr in needed_time_attrs:\n",
    "    df[attr] = df[\"Timestamp\"].apply(lambda x: get_time_attr(x, attr))\n"
   ]
  },
  {
   "cell_type": "markdown",
   "metadata": {},
   "source": [
    "# Data preprocessing"
   ]
  },
  {
   "cell_type": "code",
   "execution_count": 96,
   "metadata": {},
   "outputs": [],
   "source": [
    "# train test split\n",
    "train_fraction = 0.8\n",
    "split_point = int(len(df) * train_fraction)\n",
    "\n",
    "df_train = df.iloc[:split_point]\n",
    "df_test = df.iloc[split_point:]"
   ]
  },
  {
   "cell_type": "code",
   "execution_count": 97,
   "metadata": {},
   "outputs": [],
   "source": [
    "# raw sequence data\n",
    "train_raw_seq = np.array(df_train[[\"Number\", \"hour\", \"minute\"]])\n",
    "# n_features = train_raw_seq.shape[-1]  # Number of features being used"
   ]
  },
  {
   "cell_type": "code",
   "execution_count": 98,
   "metadata": {},
   "outputs": [],
   "source": [
    "# look back sequences\n",
    "def split_sequence(sequence: np.ndarray, num_steps: int, num_features: int):\n",
    "    \"\"\"Make sub sequences of n length and the prediction value and return them\n",
    "\n",
    "    Args:\n",
    "        sequence (numpy.ndarray): The sequence of training data\n",
    "        num_steps (int): How many past data points to look at\n",
    "        num_features (int): Total number of features in given dataset\n",
    "    \"\"\"\n",
    "\n",
    "    x, y = [], []\n",
    "\n",
    "    for i in range(len(sequence)):\n",
    "        # find index of end of current learning slice\n",
    "        end_i = i + num_steps\n",
    "\n",
    "        # check if end is beyond the length of sequence\n",
    "        if end_i > len(sequence) - 1:  # -1 since last element needs to be the prediction value\n",
    "            break\n",
    "        else:\n",
    "            seq_x = sequence[i:end_i]  # training sequence\n",
    "            seq_y = sequence[end_i][0]  # prediction value should only be the Number\n",
    "\n",
    "            x.append(seq_x)\n",
    "            y.append(seq_y)\n",
    "\n",
    "    # Reshape data\n",
    "    x = np.array(x)\n",
    "    y = np.array(y)\n",
    "\n",
    "    x = x.reshape(x.shape[0], x.shape[1], num_features)  # each internal array contains data of each timestep\n",
    "    y = y.reshape(-1, 1)\n",
    "    \n",
    "    return x, y"
   ]
  },
  {
   "cell_type": "code",
   "execution_count": 99,
   "metadata": {},
   "outputs": [],
   "source": [
    "# Get train, test splits\n",
    "X_train, y_train = split_sequence(train_raw_seq, n_lookback, n_features)"
   ]
  },
  {
   "cell_type": "markdown",
   "metadata": {},
   "source": [
    "# Models"
   ]
  },
  {
   "cell_type": "code",
   "execution_count": 100,
   "metadata": {
    "tags": []
   },
   "outputs": [],
   "source": [
    "# construct model\n",
    "from tensorflow.keras.models import Sequential\n",
    "from tensorflow.keras.layers import LSTM, Dense\n",
    "\n",
    "def train_model(X_train: np.array, y_train: np.array, num_features: int, num_lookback: int, activation: str, num_epochs: int, optimizer: str ='adam', loss: str ='mean_squared_logarithmic_error'):\n",
    "    # define model\n",
    "    model = Sequential()\n",
    "\n",
    "    # Primary layer\n",
    "    model.add(LSTM(1, activation=activation, input_shape=(num_lookback, num_features)))\n",
    "\n",
    "    # Dense layers\n",
    "    model.add(Dense(64, activation=activation))\n",
    "    model.add(Dense(64, activation=activation))\n",
    "    # model.add(Dense(64, activation=activation))\n",
    "    # model.add(Dense(64, activation=activation))\n",
    "    \n",
    "    \n",
    "    # Output layer\n",
    "    model.add(Dense(1))\n",
    "\n",
    "\n",
    "    model.compile(optimizer=optimizer, loss=loss)\n",
    "\n",
    "    # fit model\n",
    "    history = model.fit(X_train, y_train, epochs=num_epochs, verbose=1, validation_split=0.2)\n",
    "\n",
    "    # Print realtime loss plots\n",
    "    \n",
    "\n",
    "    # plot train and validation loss\n",
    "    plt.plot(history.history[\"loss\"])\n",
    "    plt.plot(history.history[\"val_loss\"])\n",
    "    plt.title(\"Model loss\")\n",
    "    plt.xlabel(\"Epoch\")\n",
    "    plt.ylabel(\"Loss\")\n",
    "    plt.legend([\"Train\", \"Validation\"], loc=\"upper right\")\n",
    "    plt.show()\n",
    "\n",
    "    # return trained model object\n",
    "    return model"
   ]
  },
  {
   "cell_type": "code",
   "execution_count": 101,
   "metadata": {
    "tags": []
   },
   "outputs": [
    {
     "name": "stdout",
     "output_type": "stream",
     "text": [
      "Epoch 1/15\n"
     ]
    },
    {
     "name": "stdout",
     "output_type": "stream",
     "text": [
      "1776/1776 [==============================] - 4s 2ms/step - loss: 14.1695 - val_loss: 14.2482\n",
      "Epoch 2/15\n",
      "1776/1776 [==============================] - 3s 2ms/step - loss: 14.1695 - val_loss: 14.2482\n",
      "Epoch 3/15\n",
      "1776/1776 [==============================] - 3s 2ms/step - loss: 14.1695 - val_loss: 14.2482\n",
      "Epoch 4/15\n",
      "1776/1776 [==============================] - 3s 2ms/step - loss: 14.1695 - val_loss: 14.2482\n",
      "Epoch 5/15\n",
      "1776/1776 [==============================] - 3s 2ms/step - loss: 14.1694 - val_loss: 14.2482\n",
      "Epoch 6/15\n",
      "1776/1776 [==============================] - 3s 2ms/step - loss: 14.1694 - val_loss: 14.2482\n",
      "Epoch 7/15\n",
      "1776/1776 [==============================] - 3s 2ms/step - loss: 14.1694 - val_loss: 14.2482\n",
      "Epoch 8/15\n",
      "1776/1776 [==============================] - 3s 2ms/step - loss: 14.1695 - val_loss: 14.2482\n",
      "Epoch 9/15\n",
      "1776/1776 [==============================] - 3s 2ms/step - loss: 14.1695 - val_loss: 14.2482\n",
      "Epoch 10/15\n",
      "1776/1776 [==============================] - 3s 2ms/step - loss: 14.1694 - val_loss: 14.2482\n",
      "Epoch 11/15\n",
      "1776/1776 [==============================] - 3s 2ms/step - loss: 14.1695 - val_loss: 14.2482\n",
      "Epoch 12/15\n",
      "1776/1776 [==============================] - 3s 2ms/step - loss: 14.1695 - val_loss: 14.2482\n",
      "Epoch 13/15\n",
      "1776/1776 [==============================] - 3s 2ms/step - loss: 14.1694 - val_loss: 14.2482\n",
      "Epoch 14/15\n",
      "1776/1776 [==============================] - 3s 2ms/step - loss: 14.1694 - val_loss: 14.2482\n",
      "Epoch 15/15\n",
      "1776/1776 [==============================] - 3s 2ms/step - loss: 14.1695 - val_loss: 14.2482\n"
     ]
    },
    {
     "data": {
      "image/png": "[encoded data removed]",
      "text/plain": [
       "<Figure size 432x288 with 1 Axes>"
      ]
     },
     "metadata": {
      "needs_background": "light"
     },
     "output_type": "display_data"
    }
   ],
   "source": [
    "# Sigmoid\n",
    "model = train_model(X_train, y_train, n_features, n_lookback, 'sigmoid', 15, optimizer='adam')"
   ]
  },
  {
   "cell_type": "code",
   "execution_count": 102,
   "metadata": {
    "tags": []
   },
   "outputs": [
    {
     "ename": "NameError",
     "evalue": "name 'model_2' is not defined",
     "output_type": "error",
     "traceback": [
      "\u001b[0;31m---------------------------------------------------------------------------\u001b[0m",
      "\u001b[0;31mNameError\u001b[0m                                 Traceback (most recent call last)",
      "\u001b[0;32m<ipython-input-102-7d3ab8efded2>\u001b[0m in \u001b[0;36m<module>\u001b[0;34m\u001b[0m\n\u001b[1;32m      1\u001b[0m \u001b[0;31m# save model to file\u001b[0m\u001b[0;34m\u001b[0m\u001b[0;34m\u001b[0m\u001b[0;34m\u001b[0m\u001b[0m\n\u001b[1;32m      2\u001b[0m \u001b[0mmodel_2_path\u001b[0m \u001b[0;34m=\u001b[0m \u001b[0;34m'./models/02-hour_min-2_dense-50-epochs_-sigmoid.keras'\u001b[0m\u001b[0;34m\u001b[0m\u001b[0;34m\u001b[0m\u001b[0m\n\u001b[0;32m----> 3\u001b[0;31m \u001b[0mmodel_2\u001b[0m\u001b[0;34m.\u001b[0m\u001b[0msave\u001b[0m\u001b[0;34m(\u001b[0m\u001b[0mmodel_2_path\u001b[0m\u001b[0;34m)\u001b[0m\u001b[0;34m\u001b[0m\u001b[0;34m\u001b[0m\u001b[0m\n\u001b[0m",
      "\u001b[0;31mNameError\u001b[0m: name 'model_2' is not defined"
     ]
    }
   ],
   "source": [
    "# save model to file\n",
    "model_2_path = './models/02-hour_min-2_dense-50-epochs_-sigmoid.keras'\n",
    "model_2.save(model_2_path)"
   ]
  },
  {
   "cell_type": "markdown",
   "metadata": {},
   "source": [
    "# Evaluate"
   ]
  },
  {
   "cell_type": "code",
   "execution_count": 103,
   "metadata": {},
   "outputs": [],
   "source": [
    "# define evaluate function\n",
    "def evaluate_msle(model: tensorflow.keras.models.Sequential, preds: np.array, ground_truths: np.array):\n",
    "    m = tensorflow.keras.metrics.MeanSquaredLogarithmicError()\n",
    "    m.update_state(ground_truths, preds)\n",
    "    metric = m.result().numpy()\n",
    "    m.reset_state()\n",
    "    return metric"
   ]
  },
  {
   "cell_type": "code",
   "execution_count": 104,
   "metadata": {
    "tags": []
   },
   "outputs": [],
   "source": [
    "# test data\n",
    "test_raw_seq = np.array(df_test[[\"Number\", \"hour\", \"minute\"]])\n",
    "X_test, y_test = split_sequence(test_raw_seq, n_lookback, n_features)"
   ]
  },
  {
   "cell_type": "code",
   "execution_count": 105,
   "metadata": {
    "tags": []
   },
   "outputs": [
    {
     "name": "stdout",
     "output_type": "stream",
     "text": [
      "555/555 [==============================] - 0s 649us/step\n"
     ]
    }
   ],
   "source": [
    "# make predictions\n",
    "# preds_1 = model_1.predict(X_test)\n",
    "preds = model.predict(X_test)"
   ]
  },
  {
   "cell_type": "code",
   "execution_count": 108,
   "metadata": {
    "tags": []
   },
   "outputs": [
    {
     "name": "stdout",
     "output_type": "stream",
     "text": [
      "Model 2 MSLE:  14.194802\n"
     ]
    }
   ],
   "source": [
    "# print(\"Model 1 MSLE: \", evaluate_msle(model_1, preds_1, y_test))\n",
    "print(\"Model 2 MSLE: \", evaluate_msle(model, preds, y_test))"
   ]
  },
  {
   "cell_type": "code",
   "execution_count": 109,
   "metadata": {},
   "outputs": [
    {
     "data": {
      "text/plain": [
       "array([[-0.9980898 ],\n",
       "       [-0.9980898 ],\n",
       "       [-0.9980898 ],\n",
       "       ...,\n",
       "       [-0.99808997],\n",
       "       [-0.9980898 ],\n",
       "       [-0.99808985]], dtype=float32)"
      ]
     },
     "execution_count": 109,
     "metadata": {},
     "output_type": "execute_result"
    }
   ],
   "source": [
    "preds"
   ]
  },
  {
   "cell_type": "code",
   "execution_count": null,
   "metadata": {},
   "outputs": [],
   "source": []
  }
 ],
 "metadata": {
  "kernelspec": {
   "display_name": "Python 3",
   "language": "python",
   "name": "python3"
  },
  "language_info": {
   "codemirror_mode": {
    "name": "ipython",
    "version": 3
   },
   "file_extension": ".py",
   "mimetype": "text/x-python",
   "name": "python",
   "nbconvert_exporter": "python",
   "pygments_lexer": "ipython3",
   "version": "3.8.10"
  }
 },
 "nbformat": 4,
 "nbformat_minor": 2
}

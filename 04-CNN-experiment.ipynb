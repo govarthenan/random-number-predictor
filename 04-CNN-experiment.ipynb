{
 "cells": [
  {
   "cell_type": "code",
   "execution_count": 49,
   "metadata": {},
   "outputs": [],
   "source": [
    "!export TF_BLAS=libopenblas\n",
    "!export LD_LIBRARY_PATH=/usr/lib/x86_64-linux-gnu:$LD_LIBRARY_PATH\n",
    "!export OPENBLAS_NUM_THREADS=8  # You can adjust this based on your CPU cores"
   ]
  },
  {
   "cell_type": "code",
   "execution_count": 50,
   "metadata": {},
   "outputs": [],
   "source": [
    "import pandas as pd\n",
    "import numpy as np\n",
    "import tensorflow\n",
    "import matplotlib.pyplot as plt\n",
    "import glob"
   ]
  },
  {
   "cell_type": "markdown",
   "metadata": {},
   "source": [
    "# Data"
   ]
  },
  {
   "cell_type": "code",
   "execution_count": 51,
   "metadata": {},
   "outputs": [],
   "source": [
    "# construct dataframe from multiple csv files\n",
    "\n",
    "# get list of available csv files\n",
    "csv_files = glob.glob('./data/*.csv')\n",
    "\n",
    "# read each file and create final df\n",
    "dataframes = []\n",
    "for file in csv_files:\n",
    "    temp_df = pd.read_csv(file)\n",
    "    dataframes.append(temp_df)\n",
    "\n",
    "df = pd.concat(dataframes, ignore_index=True)\n",
    "df['Timestamp'] = pd.to_datetime(df['Timestamp'], unit='s')  # convert unix_train time to date time\n",
    "df.sort_values(by='Timestamp', inplace=True)  # sort by timestamp"
   ]
  },
  {
   "cell_type": "code",
   "execution_count": 52,
   "metadata": {},
   "outputs": [
    {
     "name": "stdout",
     "output_type": "stream",
     "text": [
      "<class 'pandas.core.frame.DataFrame'>\n",
      "Int64Index: 88801 entries, 82354 to 43821\n",
      "Data columns (total 3 columns):\n",
      " #   Column     Non-Null Count  Dtype         \n",
      "---  ------     --------------  -----         \n",
      " 0   Number     88801 non-null  float64       \n",
      " 1   Timestamp  88801 non-null  datetime64[ns]\n",
      " 2   IP         88801 non-null  object        \n",
      "dtypes: datetime64[ns](1), float64(1), object(1)\n",
      "memory usage: 2.7+ MB\n"
     ]
    },
    {
     "data": {
      "text/plain": [
       "Number       0\n",
       "Timestamp    0\n",
       "IP           0\n",
       "dtype: int64"
      ]
     },
     "execution_count": 52,
     "metadata": {},
     "output_type": "execute_result"
    }
   ],
   "source": [
    "df.info()\n",
    "df.isnull().sum()"
   ]
  },
  {
   "cell_type": "markdown",
   "metadata": {},
   "source": [
    "# Feature Eng."
   ]
  },
  {
   "cell_type": "code",
   "execution_count": 53,
   "metadata": {},
   "outputs": [],
   "source": [
    "n_features = 3  # number of features used to train\n",
    "n_lookback = 20  # Number of historical data points to learn for each result"
   ]
  },
  {
   "cell_type": "code",
   "execution_count": 54,
   "metadata": {},
   "outputs": [],
   "source": [
    "def get_time_attr(row: pd.Series, part: str):\n",
    "    \"\"\"Return the specified part of the timestamp.\n",
    "\n",
    "    Args:\n",
    "        row (pd.Series): Dataframe row\n",
    "        part (str): Should be a valid `pandas.Timestamp` attribute\n",
    "\n",
    "    Returns:\n",
    "        any: Specified attribute of the timestamp\n",
    "    \"\"\"\n",
    "    return getattr(row, part)"
   ]
  },
  {
   "cell_type": "code",
   "execution_count": 55,
   "metadata": {},
   "outputs": [],
   "source": [
    "# Get time attributes and add to dataframe\n",
    "needed_time_attrs = [\"hour\", \"minute\"]\n",
    "\n",
    "for attr in needed_time_attrs:\n",
    "    df[attr] = df[\"Timestamp\"].apply(lambda x: get_time_attr(x, attr))\n"
   ]
  },
  {
   "cell_type": "markdown",
   "metadata": {},
   "source": [
    "## One Hot Encode Numbers"
   ]
  },
  {
   "cell_type": "code",
   "execution_count": 56,
   "metadata": {},
   "outputs": [],
   "source": [
    "# Convert Number column to integer\n",
    "df['Number'] = df['Number'].astype(int)\n",
    "\n",
    "# One hot encoded columns\n",
    "encoded_numbers = pd.get_dummies(df['Number'], prefix='Number')\n",
    "\n",
    "# Update number of used features\n",
    "n_features = n_features + encoded_numbers.shape[1]"
   ]
  },
  {
   "cell_type": "code",
   "execution_count": 57,
   "metadata": {},
   "outputs": [],
   "source": [
    "# Remove Number column from df\n",
    "df.drop('Number', axis=1, inplace=True)\n",
    "\n",
    "# Concatenate the one hot encoded columns to the main dataframe\n",
    "df = pd.concat([df, encoded_numbers], axis=1)"
   ]
  },
  {
   "cell_type": "markdown",
   "metadata": {},
   "source": [
    "# Data preprocessing"
   ]
  },
  {
   "cell_type": "code",
   "execution_count": 58,
   "metadata": {},
   "outputs": [],
   "source": [
    "# Remove unwanted columns\n",
    "df.drop('IP', axis=1, inplace=True)\n",
    "\n",
    "df.drop('Timestamp', axis=1, inplace=True)\n",
    "n_features -= 1  # Remove timestamp column"
   ]
  },
  {
   "cell_type": "code",
   "execution_count": 59,
   "metadata": {},
   "outputs": [],
   "source": [
    "# train test split\n",
    "train_fraction = 0.8\n",
    "split_point = int(len(df) * train_fraction)\n",
    "\n",
    "df_train = df.iloc[:split_point]\n",
    "df_test = df.iloc[split_point:]"
   ]
  },
  {
   "cell_type": "code",
   "execution_count": 60,
   "metadata": {},
   "outputs": [],
   "source": [
    "# raw sequence data\n",
    "train_raw_seq = np.array(df_train)"
   ]
  },
  {
   "cell_type": "code",
   "execution_count": null,
   "metadata": {},
   "outputs": [],
   "source": [
    "X_train = train_raw_seq[:]"
   ]
  },
  {
   "cell_type": "code",
   "execution_count": 37,
   "metadata": {},
   "outputs": [],
   "source": [
    "# look back sequences\n",
    "def split_sequence(sequence: np.ndarray, num_steps: int, num_features: int):\n",
    "    \"\"\"Make sub sequences of n length and the prediction value and return them\n",
    "\n",
    "    Args:\n",
    "        sequence (numpy.ndarray): The sequence of training data\n",
    "        num_steps (int): How many past data points to look at\n",
    "        num_features (int): Total number of features in given dataset\n",
    "    \"\"\"\n",
    "\n",
    "    x, y = [], []\n",
    "\n",
    "    for i in range(len(sequence)):\n",
    "        # find index of end of current learning slice\n",
    "        end_i = i + num_steps\n",
    "\n",
    "        # check if end is beyond the length of sequence\n",
    "        if end_i > len(sequence) - 1:  # -1 since last element needs to be the prediction value\n",
    "            break\n",
    "        else:\n",
    "            seq_x = sequence[i:end_i]  # training sequence\n",
    "            seq_y = sequence[end_i][2:]  # prediction value\n",
    "\n",
    "            x.append(seq_x)\n",
    "            y.append(seq_y)\n",
    "\n",
    "    # Reshape data\n",
    "    x = np.array(x)\n",
    "    y = np.array(y)\n",
    "\n",
    "    x = x.reshape(x.shape[0], x.shape[1], num_features)  # each internal array contains data of each timestep\n",
    "    y = y.reshape(-1, num_features - 2)  # each internal array contains data of each timestep\n",
    "    \n",
    "    return x, y"
   ]
  },
  {
   "cell_type": "code",
   "execution_count": 38,
   "metadata": {},
   "outputs": [],
   "source": [
    "# Get train, test splits\n",
    "X_train, y_train = split_sequence(train_raw_seq, n_lookback, n_features)"
   ]
  },
  {
   "cell_type": "markdown",
   "metadata": {},
   "source": [
    "# Models"
   ]
  },
  {
   "cell_type": "code",
   "execution_count": 39,
   "metadata": {},
   "outputs": [],
   "source": [
    "# Import model\n",
    "from tensorflow.keras.models import Sequential\n",
    "from tensorflow.keras.layers import Conv1D, Dropout, Flatten, Dense"
   ]
  },
  {
   "cell_type": "code",
   "execution_count": 40,
   "metadata": {},
   "outputs": [
    {
     "data": {
      "text/plain": [
       "(71020, 100)"
      ]
     },
     "execution_count": 40,
     "metadata": {},
     "output_type": "execute_result"
    }
   ],
   "source": [
    "y_train.shape"
   ]
  },
  {
   "cell_type": "code",
   "execution_count": 94,
   "metadata": {
    "tags": []
   },
   "outputs": [],
   "source": [
    "# Construct model\n",
    "def train_cnn_model(X_train: np.array, y_train: np.array, num_lookback: int, num_features: int, activation: str ='relu', num_epochs: int = 15, optimizer: str ='adam', loss: str ='categorical_crossentropy'):\n",
    "    # define model\n",
    "    model = Sequential()\n",
    "\n",
    "    # Primary layer -  CNN\n",
    "    model = Sequential()\n",
    "    model.add(Conv1D(32, 1, activation=activation, input_shape=(num_lookback, num_features)))\n",
    "    model.add(Dropout(0.2))\n",
    "    # model.add(Conv1D(16, 1, activation=activation, input_shape=(num_lookback, num_features)))\n",
    "    # model.add(Dropout(0.2))\n",
    "\n",
    "    model.add(Flatten())\n",
    "\n",
    "    model.add(Dense(200, activation=activation))\n",
    "    model.add(Dropout(0.5))\n",
    "    # model.add(Dense(100, activation=activation))\n",
    "    # model.add(Dropout(0.5))\n",
    "\n",
    "    model.add(Dense(100, activation='softmax'))  # 100 output classes\n",
    "\n",
    "    # model.compile(optimizer=optimizer, loss=loss)\n",
    "    model.compile(optimizer='adam', loss='categorical_crossentropy')\n",
    "\n",
    "    # fit model\n",
    "    history = model.fit(X_train, y_train, epochs=num_epochs, verbose=1, validation_split=0.2)\n",
    "\n",
    "    # plot train and validation loss\n",
    "    plt.plot(history.history[\"loss\"])\n",
    "    plt.plot(history.history[\"val_loss\"])\n",
    "    plt.title(\"Model loss\")\n",
    "    plt.xlabel(\"Epoch\")\n",
    "    plt.ylabel(\"Loss\")\n",
    "    plt.legend([\"Train\", \"Validation\"], loc=\"upper right\")\n",
    "    plt.show()\n",
    "\n",
    "    # return trained model object\n",
    "    return model"
   ]
  },
  {
   "cell_type": "code",
   "execution_count": 95,
   "metadata": {
    "tags": []
   },
   "outputs": [
    {
     "name": "stdout",
     "output_type": "stream",
     "text": [
      "Epoch 1/15\n",
      "1776/1776 [==============================] - 5s 2ms/step - loss: 4.6280 - val_loss: 4.6054\n",
      "Epoch 2/15\n",
      "1776/1776 [==============================] - 4s 3ms/step - loss: 4.6054 - val_loss: 4.6059\n",
      "Epoch 3/15\n",
      "1776/1776 [==============================] - 4s 2ms/step - loss: 4.6052 - val_loss: 4.6061\n",
      "Epoch 4/15\n",
      "1776/1776 [==============================] - 4s 2ms/step - loss: 4.6051 - val_loss: 4.6061\n",
      "Epoch 5/15\n",
      "1776/1776 [==============================] - 4s 2ms/step - loss: 4.6052 - val_loss: 4.6061\n",
      "Epoch 6/15\n",
      "1776/1776 [==============================] - 4s 2ms/step - loss: 4.6051 - val_loss: 4.6062\n",
      "Epoch 7/15\n",
      "1776/1776 [==============================] - 4s 2ms/step - loss: 4.6051 - val_loss: 4.6061\n",
      "Epoch 8/15\n",
      "1776/1776 [==============================] - 4s 2ms/step - loss: 4.6056 - val_loss: 4.6063\n",
      "Epoch 9/15\n",
      "1776/1776 [==============================] - 4s 2ms/step - loss: 4.6053 - val_loss: 4.6068\n",
      "Epoch 10/15\n",
      "1776/1776 [==============================] - 4s 2ms/step - loss: 4.6051 - val_loss: 4.6066\n",
      "Epoch 11/15\n",
      "1776/1776 [==============================] - 4s 2ms/step - loss: 4.6047 - val_loss: 4.6074\n",
      "Epoch 12/15\n",
      "1776/1776 [==============================] - 4s 2ms/step - loss: 4.6044 - val_loss: 4.6081\n",
      "Epoch 13/15\n",
      "1776/1776 [==============================] - 4s 2ms/step - loss: 4.6041 - val_loss: 4.6079\n",
      "Epoch 14/15\n",
      "1776/1776 [==============================] - 4s 2ms/step - loss: 4.6044 - val_loss: 4.6078\n",
      "Epoch 15/15\n",
      "1776/1776 [==============================] - 4s 2ms/step - loss: 4.6039 - val_loss: 4.6077\n"
     ]
    },
    {
     "data": {
      "image/png": "[encoded data removed]",
      "text/plain": [
       "<Figure size 432x288 with 1 Axes>"
      ]
     },
     "metadata": {
      "needs_background": "light"
     },
     "output_type": "display_data"
    }
   ],
   "source": [
    "model = train_cnn_model(X_train, y_train, n_lookback, n_features, num_epochs=15)"
   ]
  },
  {
   "cell_type": "markdown",
   "metadata": {},
   "source": [
    "# Evaluate"
   ]
  },
  {
   "cell_type": "code",
   "execution_count": 43,
   "metadata": {},
   "outputs": [],
   "source": [
    "# define evaluate function\n",
    "def evaluate_msle(model: tensorflow.keras.models.Sequential, preds: np.array, ground_truths: np.array):\n",
    "    m = tensorflow.keras.metrics.MeanSquaredLogarithmicError()\n",
    "    m.update_state(ground_truths, preds)\n",
    "    metric = m.result().numpy()\n",
    "    m.reset_state()\n",
    "    return metric"
   ]
  },
  {
   "cell_type": "code",
   "execution_count": 87,
   "metadata": {},
   "outputs": [],
   "source": [
    "def get_max_indices(preds: np.array):\n",
    "    \"\"\"Return the index of the maximum value in each array of the given array\n",
    "\n",
    "    Args:\n",
    "        preds (np.array): Array of arrays\n",
    "\n",
    "    Returns:\n",
    "        list: List of indices\n",
    "    \"\"\"\n",
    "    indices = []\n",
    "    for p in preds:\n",
    "        indices.append(p.tolist().index(max(p)))\n",
    "    return indices"
   ]
  },
  {
   "cell_type": "code",
   "execution_count": 44,
   "metadata": {
    "tags": []
   },
   "outputs": [],
   "source": [
    "# Load models again\n",
    "# model = tensorflow.keras.models.load_model(model_2_path, compile=False)"
   ]
  },
  {
   "cell_type": "code",
   "execution_count": 65,
   "metadata": {
    "tags": []
   },
   "outputs": [],
   "source": [
    "# test data\n",
    "test_raw_seq = np.array(df_test)\n",
    "X_test, y_test = split_sequence(test_raw_seq, n_lookback, n_features)"
   ]
  },
  {
   "cell_type": "code",
   "execution_count": 66,
   "metadata": {
    "tags": []
   },
   "outputs": [
    {
     "name": "stdout",
     "output_type": "stream",
     "text": [
      "  1/555 [..............................] - ETA: 28s"
     ]
    },
    {
     "name": "stdout",
     "output_type": "stream",
     "text": [
      "555/555 [==============================] - 1s 1ms/step\n"
     ]
    }
   ],
   "source": [
    "# make predictions\n",
    "preds = model.predict(X_test)"
   ]
  },
  {
   "cell_type": "code",
   "execution_count": 67,
   "metadata": {
    "tags": []
   },
   "outputs": [
    {
     "name": "stdout",
     "output_type": "stream",
     "text": [
      "Model 2 MSLE:  0.0047657806\n"
     ]
    }
   ],
   "source": [
    "# print(\"Model 1 MSLE: \", evaluate_msle(model_1, preds_1, y_test))\n",
    "print(\"Model 2 MSLE: \", evaluate_msle(model, preds, y_test))"
   ]
  },
  {
   "cell_type": "code",
   "execution_count": 93,
   "metadata": {},
   "outputs": [
    {
     "ename": "AttributeError",
     "evalue": "'numpy.ndarray' object has no attribute 'nunique'",
     "output_type": "error",
     "traceback": [
      "\u001b[0;31m---------------------------------------------------------------------------\u001b[0m",
      "\u001b[0;31mAttributeError\u001b[0m                            Traceback (most recent call last)",
      "\u001b[0;32m<ipython-input-93-dbcf32fce7fb>\u001b[0m in \u001b[0;36m<module>\u001b[0;34m\u001b[0m\n\u001b[0;32m----> 1\u001b[0;31m \u001b[0mnp\u001b[0m\u001b[0;34m.\u001b[0m\u001b[0marray\u001b[0m\u001b[0;34m(\u001b[0m\u001b[0mget_max_indices\u001b[0m\u001b[0;34m(\u001b[0m\u001b[0mpreds\u001b[0m\u001b[0;34m)\u001b[0m\u001b[0;34m)\u001b[0m\u001b[0;34m.\u001b[0m\u001b[0mnunique\u001b[0m\u001b[0;34m(\u001b[0m\u001b[0;34m)\u001b[0m\u001b[0;34m\u001b[0m\u001b[0;34m\u001b[0m\u001b[0m\n\u001b[0m",
      "\u001b[0;31mAttributeError\u001b[0m: 'numpy.ndarray' object has no attribute 'nunique'"
     ]
    }
   ],
   "source": [
    "np.array(get_max_indices(preds)).nunique()"
   ]
  }
 ],
 "metadata": {
  "kernelspec": {
   "display_name": "Python 3",
   "language": "python",
   "name": "python3"
  },
  "language_info": {
   "codemirror_mode": {
    "name": "ipython",
    "version": 3
   },
   "file_extension": ".py",
   "mimetype": "text/x-python",
   "name": "python",
   "nbconvert_exporter": "python",
   "pygments_lexer": "ipython3",
   "version": "3.8.10"
  }
 },
 "nbformat": 4,
 "nbformat_minor": 2
}
